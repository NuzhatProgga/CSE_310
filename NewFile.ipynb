{
  "nbformat": 4,
  "nbformat_minor": 0,
  "metadata": {
    "colab": {
      "name": "NewFile.ipynb",
      "provenance": [],
      "collapsed_sections": [],
      "authorship_tag": "ABX9TyOm3i5sEkpv6XdCQxs0KuB9",
      "include_colab_link": true
    },
    "kernelspec": {
      "name": "python3",
      "display_name": "Python 3"
    }
  },
  "cells": [
    {
      "cell_type": "markdown",
      "metadata": {
        "id": "view-in-github",
        "colab_type": "text"
      },
      "source": [
        "<a href=\"https://colab.research.google.com/github/NuzhatProgga/CSE_310/blob/master/NewFile.ipynb\" target=\"_parent\"><img src=\"https://colab.research.google.com/assets/colab-badge.svg\" alt=\"Open In Colab\"/></a>"
      ]
    },
    {
      "cell_type": "code",
      "metadata": {
        "id": "4qWZ4AfR__Co",
        "colab_type": "code",
        "colab": {
          "base_uri": "https://localhost:8080/",
          "height": 50
        },
        "outputId": "bc966886-5a05-438a-a097-70b362e59340"
      },
      "source": [
        "student_list = [\n",
        "                {\"Id\": 1,\n",
        "                 \"First Name\": \"Peter\",\n",
        "                 \"Last Name\": \"Lee\",\n",
        "                 \"Email\": \"plee@university.edy\",\n",
        "                 \"Year of Birth\": \"1992\",\n",
        "                 },\n",
        "                \n",
        "                {\"Id\": 2,\n",
        "                 \"First Name\": \"Jonathan\",\n",
        "                 \"Last Name\": \"Edwards\",\n",
        "                 \"Email\": \"jedwards@university.edy\",\n",
        "                 \"Year of birth\": \"1994\",\n",
        "                 },\n",
        "                \n",
        "                {\"Id\": 3,\n",
        "                 \"First Name\": \"Marilyn\",\n",
        "                 \"Last Name\": \"Jognson\",\n",
        "                 \"Email\": \"mjohnson@university.edy\",\n",
        "                 \"Year of birth\": \"1993\",\n",
        "                 },\n",
        "                \n",
        "                {\"Id\": 6,\n",
        "                 \"First Name\": \"Joe\",\n",
        "                 \"Last Name\": \"Kim\",\n",
        "                 \"Email\": \"jkim@university.edy\",\n",
        "                 \"Year of birth\": \"1992\",\n",
        "                 }\n",
        "]\n",
        "\n",
        "id = int(input(\"ID : \"))\n",
        "\n",
        "for i in student_list:\n",
        "  if i[\"Id\"] == id:\n",
        "    print(i)\n",
        "    break"
      ],
      "execution_count": 4,
      "outputs": [
        {
          "output_type": "stream",
          "text": [
            "ID : 2\n",
            "{'Id': 2, 'First Name': 'Jonathan', 'Last Name': 'Edwards', 'Email': 'jedwards@university.edy', 'Year of birth': '1994'}\n"
          ],
          "name": "stdout"
        }
      ]
    },
    {
      "cell_type": "code",
      "metadata": {
        "id": "Xp0FGlH8A977",
        "colab_type": "code",
        "colab": {
          "base_uri": "https://localhost:8080/",
          "height": 34
        },
        "outputId": "660a2c8b-9471-451e-fde6-1b123b2d4a09"
      },
      "source": [
        "my_list = [1, 2, 3, 4, 5, 6]\n",
        "my_list"
      ],
      "execution_count": 5,
      "outputs": [
        {
          "output_type": "execute_result",
          "data": {
            "text/plain": [
              "[1, 2, 3, 4, 5, 6]"
            ]
          },
          "metadata": {
            "tags": []
          },
          "execution_count": 5
        }
      ]
    }
  ]
}